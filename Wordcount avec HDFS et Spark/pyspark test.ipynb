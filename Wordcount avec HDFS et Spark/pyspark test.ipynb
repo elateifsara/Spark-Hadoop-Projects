{
 "cells": [
  {
   "cell_type": "code",
   "execution_count": 13,
   "metadata": {},
   "outputs": [],
   "source": [
    "import pyspark"
   ]
  },
  {
   "cell_type": "code",
   "execution_count": 12,
   "metadata": {},
   "outputs": [
    {
     "name": "stdout",
     "output_type": "stream",
     "text": [
      "3.14151896\n"
     ]
    }
   ],
   "source": [
    "import random\n",
    "num_samples = 100000000\n",
    "def inside(p):     \n",
    "  x, y = random.random(), random.random()\n",
    "  return x*x + y*y < 1\n",
    "count = sc.parallelize(range(0, num_samples)).filter(inside).count()\n",
    "pi = 4 * count / num_samples\n",
    "print(pi)\n",
    "sc.stop()"
   ]
  },
  {
   "cell_type": "code",
   "execution_count": 15,
   "metadata": {},
   "outputs": [
    {
     "ename": "AttributeError",
     "evalue": "'NoneType' object has no attribute 'sc'",
     "output_type": "error",
     "traceback": [
      "\u001b[0;31m---------------------------------------------------------------------------\u001b[0m",
      "\u001b[0;31mAttributeError\u001b[0m                            Traceback (most recent call last)",
      "\u001b[0;32m<ipython-input-15-ee6020749f95>\u001b[0m in \u001b[0;36m<module>\u001b[0;34m\u001b[0m\n\u001b[0;32m----> 1\u001b[0;31m \u001b[0mfile\u001b[0m \u001b[0;34m=\u001b[0m \u001b[0msc\u001b[0m\u001b[0;34m.\u001b[0m\u001b[0mtextFile\u001b[0m\u001b[0;34m(\u001b[0m\u001b[0;34m\"hdfs:/input/poeme.txt\"\u001b[0m\u001b[0;34m)\u001b[0m\u001b[0;34m\u001b[0m\u001b[0m\n\u001b[0m",
      "\u001b[0;32m/usr/lib/spark/python/pyspark/context.py\u001b[0m in \u001b[0;36mtextFile\u001b[0;34m(self, name, minPartitions, use_unicode)\u001b[0m\n\u001b[1;32m    471\u001b[0m         \u001b[0;34m[\u001b[0m\u001b[0;34mu'Hello world!'\u001b[0m\u001b[0;34m]\u001b[0m\u001b[0;34m\u001b[0m\u001b[0m\n\u001b[1;32m    472\u001b[0m         \"\"\"\n\u001b[0;32m--> 473\u001b[0;31m         \u001b[0mminPartitions\u001b[0m \u001b[0;34m=\u001b[0m \u001b[0mminPartitions\u001b[0m \u001b[0;32mor\u001b[0m \u001b[0mmin\u001b[0m\u001b[0;34m(\u001b[0m\u001b[0mself\u001b[0m\u001b[0;34m.\u001b[0m\u001b[0mdefaultParallelism\u001b[0m\u001b[0;34m,\u001b[0m \u001b[0;36m2\u001b[0m\u001b[0;34m)\u001b[0m\u001b[0;34m\u001b[0m\u001b[0m\n\u001b[0m\u001b[1;32m    474\u001b[0m         return RDD(self._jsc.textFile(name, minPartitions), self,\n\u001b[1;32m    475\u001b[0m                    UTF8Deserializer(use_unicode))\n",
      "\u001b[0;32m/usr/lib/spark/python/pyspark/context.py\u001b[0m in \u001b[0;36mdefaultParallelism\u001b[0;34m(self)\u001b[0m\n\u001b[1;32m    346\u001b[0m         reduce tasks)\n\u001b[1;32m    347\u001b[0m         \"\"\"\n\u001b[0;32m--> 348\u001b[0;31m         \u001b[0;32mreturn\u001b[0m \u001b[0mself\u001b[0m\u001b[0;34m.\u001b[0m\u001b[0m_jsc\u001b[0m\u001b[0;34m.\u001b[0m\u001b[0msc\u001b[0m\u001b[0;34m(\u001b[0m\u001b[0;34m)\u001b[0m\u001b[0;34m.\u001b[0m\u001b[0mdefaultParallelism\u001b[0m\u001b[0;34m(\u001b[0m\u001b[0;34m)\u001b[0m\u001b[0;34m\u001b[0m\u001b[0m\n\u001b[0m\u001b[1;32m    349\u001b[0m \u001b[0;34m\u001b[0m\u001b[0m\n\u001b[1;32m    350\u001b[0m     \u001b[0;34m@\u001b[0m\u001b[0mproperty\u001b[0m\u001b[0;34m\u001b[0m\u001b[0m\n",
      "\u001b[0;31mAttributeError\u001b[0m: 'NoneType' object has no attribute 'sc'"
     ]
    }
   ],
   "source": [
    "file = sc.textFile(\"hdfs:/input/poeme.txt\")"
   ]
  },
  {
   "cell_type": "code",
   "execution_count": 13,
   "metadata": {},
   "outputs": [
    {
     "ename": "AttributeError",
     "evalue": "'NoneType' object has no attribute 'sc'",
     "output_type": "error",
     "traceback": [
      "\u001b[0;31m---------------------------------------------------------------------------\u001b[0m",
      "\u001b[0;31mAttributeError\u001b[0m                            Traceback (most recent call last)",
      "\u001b[0;32m<ipython-input-13-ece301636d47>\u001b[0m in \u001b[0;36m<module>\u001b[0;34m\u001b[0m\n\u001b[0;32m----> 1\u001b[0;31m \u001b[0mfile2\u001b[0m \u001b[0;34m=\u001b[0m \u001b[0msc\u001b[0m\u001b[0;34m.\u001b[0m\u001b[0mtextFile\u001b[0m\u001b[0;34m(\u001b[0m\u001b[0;34m\"hdfs:/input_data/shakespear.txt\"\u001b[0m\u001b[0;34m)\u001b[0m\u001b[0;34m\u001b[0m\u001b[0m\n\u001b[0m",
      "\u001b[0;32m/usr/lib/spark/python/pyspark/context.py\u001b[0m in \u001b[0;36mtextFile\u001b[0;34m(self, name, minPartitions, use_unicode)\u001b[0m\n\u001b[1;32m    471\u001b[0m         \u001b[0;34m[\u001b[0m\u001b[0;34mu'Hello world!'\u001b[0m\u001b[0;34m]\u001b[0m\u001b[0;34m\u001b[0m\u001b[0m\n\u001b[1;32m    472\u001b[0m         \"\"\"\n\u001b[0;32m--> 473\u001b[0;31m         \u001b[0mminPartitions\u001b[0m \u001b[0;34m=\u001b[0m \u001b[0mminPartitions\u001b[0m \u001b[0;32mor\u001b[0m \u001b[0mmin\u001b[0m\u001b[0;34m(\u001b[0m\u001b[0mself\u001b[0m\u001b[0;34m.\u001b[0m\u001b[0mdefaultParallelism\u001b[0m\u001b[0;34m,\u001b[0m \u001b[0;36m2\u001b[0m\u001b[0;34m)\u001b[0m\u001b[0;34m\u001b[0m\u001b[0m\n\u001b[0m\u001b[1;32m    474\u001b[0m         return RDD(self._jsc.textFile(name, minPartitions), self,\n\u001b[1;32m    475\u001b[0m                    UTF8Deserializer(use_unicode))\n",
      "\u001b[0;32m/usr/lib/spark/python/pyspark/context.py\u001b[0m in \u001b[0;36mdefaultParallelism\u001b[0;34m(self)\u001b[0m\n\u001b[1;32m    346\u001b[0m         reduce tasks)\n\u001b[1;32m    347\u001b[0m         \"\"\"\n\u001b[0;32m--> 348\u001b[0;31m         \u001b[0;32mreturn\u001b[0m \u001b[0mself\u001b[0m\u001b[0;34m.\u001b[0m\u001b[0m_jsc\u001b[0m\u001b[0;34m.\u001b[0m\u001b[0msc\u001b[0m\u001b[0;34m(\u001b[0m\u001b[0;34m)\u001b[0m\u001b[0;34m.\u001b[0m\u001b[0mdefaultParallelism\u001b[0m\u001b[0;34m(\u001b[0m\u001b[0;34m)\u001b[0m\u001b[0;34m\u001b[0m\u001b[0m\n\u001b[0m\u001b[1;32m    349\u001b[0m \u001b[0;34m\u001b[0m\u001b[0m\n\u001b[1;32m    350\u001b[0m     \u001b[0;34m@\u001b[0m\u001b[0mproperty\u001b[0m\u001b[0;34m\u001b[0m\u001b[0m\n",
      "\u001b[0;31mAttributeError\u001b[0m: 'NoneType' object has no attribute 'sc'"
     ]
    }
   ],
   "source": [
    "file2 = sc.textFile(\"hdfs:/input_data/shakespear.txt\")"
   ]
  },
  {
   "cell_type": "code",
   "execution_count": 3,
   "metadata": {},
   "outputs": [
    {
     "data": {
      "text/plain": [
       "hdfs:/input/poeme.txt MapPartitionsRDD[1] at textFile at NativeMethodAccessorImpl.java:-2"
      ]
     },
     "execution_count": 3,
     "metadata": {},
     "output_type": "execute_result"
    }
   ],
   "source": [
    "file"
   ]
  },
  {
   "cell_type": "code",
   "execution_count": 5,
   "metadata": {},
   "outputs": [],
   "source": [
    "counts = file.flatMap(lambda line: line.split(\" \")).map(lambda word: (word, 1)).reduceByKey(lambda v1,v2: v1 + v2)"
   ]
  },
  {
   "cell_type": "code",
   "execution_count": 7,
   "metadata": {},
   "outputs": [],
   "source": [
    "counts.saveAsTextFile(\"hdfs:/myoutput\")"
   ]
  },
  {
   "cell_type": "code",
   "execution_count": 9,
   "metadata": {},
   "outputs": [
    {
     "data": {
      "text/plain": [
       "[('rebelle', 2),\n",
       " ('', 1),\n",
       " ('seul', 1),\n",
       " ('pour', 1),\n",
       " ('disaient', 1),\n",
       " ('pas', 11),\n",
       " ('tira', 1),\n",
       " ('mirabelle', 1),\n",
       " ('guettait', 1),\n",
       " ('vive', 1),\n",
       " ('ruisselle', 1),\n",
       " ('triste', 1),\n",
       " ('chancelle', 1),\n",
       " ('par', 1),\n",
       " ('sanglots', 1),\n",
       " ('bles', 1),\n",
       " ('fait', 1),\n",
       " ('etaient', 1),\n",
       " ('prisonniere', 1),\n",
       " ('quand', 2),\n",
       " ('sous', 1),\n",
       " ('fois', 1),\n",
       " ('la', 8),\n",
       " ('lalouette', 1),\n",
       " ('sy', 1),\n",
       " ('bras', 1),\n",
       " ('vient', 1),\n",
       " ('rose', 1),\n",
       " ('reseda', 1),\n",
       " ('ou', 3),\n",
       " ('bretagne', 1),\n",
       " ('double', 1),\n",
       " ('murisse', 1),\n",
       " ('des', 5),\n",
       " ('terre', 1),\n",
       " ('trompa', 1),\n",
       " ('sur', 1),\n",
       " ('celle', 1),\n",
       " ('rouge', 1),\n",
       " ('sentinelle', 1),\n",
       " ('leur', 2),\n",
       " ('coeur', 2),\n",
       " ('ses', 1),\n",
       " ('ils', 1),\n",
       " ('ne', 1),\n",
       " ('vivra', 1),\n",
       " ('a', 6),\n",
       " ('lun', 3),\n",
       " ('plus', 2),\n",
       " ('delicat', 1),\n",
       " ('sappelle', 1),\n",
       " ('amour', 1),\n",
       " ('eclat', 1),\n",
       " ('verra', 1),\n",
       " ('prison', 1),\n",
       " ('aima', 1),\n",
       " ('montait', 1),\n",
       " ('est', 1),\n",
       " ('comment', 1),\n",
       " ('couleur', 1),\n",
       " ('soldats', 1),\n",
       " ('deux', 6),\n",
       " ('quaucun', 1),\n",
       " ('croyait', 20),\n",
       " ('rats', 1),\n",
       " ('adoraient', 1),\n",
       " ('lhirondelle', 1),\n",
       " ('il', 3),\n",
       " ('cette', 1),\n",
       " ('chapelle', 1),\n",
       " ('ny', 10),\n",
       " ('qui', 25),\n",
       " ('le', 6),\n",
       " ('haut', 1),\n",
       " ('que', 2),\n",
       " ('grillon', 1),\n",
       " ('un', 4),\n",
       " ('rechantera', 1),\n",
       " ('les', 4),\n",
       " ('quelle', 1),\n",
       " ('framboise', 1),\n",
       " ('clarte', 1),\n",
       " ('bas', 1),\n",
       " ('lautre', 4),\n",
       " ('songe', 1),\n",
       " ('celui', 20),\n",
       " ('qua', 1),\n",
       " ('sont', 2),\n",
       " ('commun', 1),\n",
       " ('gele', 1),\n",
       " ('fut', 1),\n",
       " ('lequel', 5),\n",
       " ('grabat', 1),\n",
       " ('muscat', 1),\n",
       " ('trepas', 1),\n",
       " ('quil', 1),\n",
       " ('derobât', 1),\n",
       " ('cruelle', 1),\n",
       " ('coule', 2),\n",
       " ('du', 4),\n",
       " ('ciel', 10),\n",
       " ('font', 1),\n",
       " ('nouvelle', 1),\n",
       " ('ailes', 1),\n",
       " ('violoncelle', 1),\n",
       " ('grele', 1),\n",
       " ('fideles', 1),\n",
       " ('nom', 1),\n",
       " ('mele', 1),\n",
       " ('de', 5),\n",
       " ('querelles', 1),\n",
       " ('tombe', 1),\n",
       " ('laube', 1),\n",
       " ('dites', 1),\n",
       " ('glas', 1),\n",
       " ('se', 1),\n",
       " ('passent', 1),\n",
       " ('flute', 1),\n",
       " ('vie', 1),\n",
       " ('levres', 1),\n",
       " ('meme', 2),\n",
       " ('court', 1),\n",
       " ('fou', 2),\n",
       " ('belle', 1),\n",
       " ('citadelle', 1),\n",
       " ('lechelle', 1),\n",
       " ('tous', 3),\n",
       " ('quimporte', 1),\n",
       " ('et', 11),\n",
       " ('jura', 1),\n",
       " ('saison', 1),\n",
       " ('combat', 1),\n",
       " ('repetant', 1),\n",
       " ('en', 2),\n",
       " ('mourra', 1),\n",
       " ('sang', 1),\n",
       " ('au', 11),\n",
       " ('brula', 1),\n",
       " ('raisin', 1),\n",
       " ('prefere', 1)]"
      ]
     },
     "execution_count": 9,
     "metadata": {},
     "output_type": "execute_result"
    }
   ],
   "source": [
    "counts.collect()"
   ]
  },
  {
   "cell_type": "code",
   "execution_count": 11,
   "metadata": {},
   "outputs": [
    {
     "name": "stdout",
     "output_type": "stream",
     "text": [
      " rebelle : 2 \n",
      "\n",
      " pas : 11 \n",
      "\n",
      " quand : 2 \n",
      "\n",
      " la : 8 \n",
      "\n",
      " ou : 3 \n",
      "\n",
      " des : 5 \n",
      "\n",
      " leur : 2 \n",
      "\n",
      " coeur : 2 \n",
      "\n",
      " a : 6 \n",
      "\n",
      " lun : 3 \n",
      "\n",
      " plus : 2 \n",
      "\n",
      " deux : 6 \n",
      "\n",
      " croyait : 20 \n",
      "\n",
      " il : 3 \n",
      "\n",
      " ny : 10 \n",
      "\n",
      " qui : 25 \n",
      "\n",
      " le : 6 \n",
      "\n",
      " que : 2 \n",
      "\n",
      " un : 4 \n",
      "\n",
      " les : 4 \n",
      "\n",
      " lautre : 4 \n",
      "\n",
      " celui : 20 \n",
      "\n",
      " sont : 2 \n",
      "\n",
      " lequel : 5 \n",
      "\n",
      " coule : 2 \n",
      "\n",
      " du : 4 \n",
      "\n",
      " ciel : 10 \n",
      "\n",
      " de : 5 \n",
      "\n",
      " meme : 2 \n",
      "\n",
      " fou : 2 \n",
      "\n",
      " tous : 3 \n",
      "\n",
      " et : 11 \n",
      "\n",
      " en : 2 \n",
      "\n",
      " au : 11 \n",
      "\n"
     ]
    }
   ],
   "source": [
    "# Chaque paire (clé, valeur) est affichée\n",
    "for (word, count) in counts.collect():\n",
    "    if count > 1:\n",
    "        print(\" {} : {} \\n\".format(word, count))"
   ]
  }
 ],
 "metadata": {
  "kernelspec": {
   "display_name": "Python 3",
   "language": "python",
   "name": "python3"
  },
  "language_info": {
   "codemirror_mode": {
    "name": "ipython",
    "version": 3
   },
   "file_extension": ".py",
   "mimetype": "text/x-python",
   "name": "python",
   "nbconvert_exporter": "python",
   "pygments_lexer": "ipython3",
   "version": "3.5.6"
  }
 },
 "nbformat": 4,
 "nbformat_minor": 2
}
